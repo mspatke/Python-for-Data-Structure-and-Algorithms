{
 "cells": [
  {
   "cell_type": "code",
   "execution_count": 9,
   "metadata": {},
   "outputs": [],
   "source": [
    "class TrieNode:\n",
    "    \n",
    "    def __init__(self):\n",
    "        \n",
    "        self.character = {}\n",
    "        self.EOS = False"
   ]
  },
  {
   "cell_type": "code",
   "execution_count": 32,
   "metadata": {},
   "outputs": [],
   "source": [
    "class Trie:\n",
    "    \n",
    "    def __init__(self):\n",
    "        self.root = TrieNode()\n",
    "    \n",
    "    def insertString(self, word):\n",
    "        \n",
    "        current = self.root\n",
    "        \n",
    "        for i in word:\n",
    "            ch = i\n",
    "            node = current.character.get(ch)\n",
    "            \n",
    "            if node == None:\n",
    "                node = TrieNode()\n",
    "                current.character.update({ch:node})\n",
    "            \n",
    "            current = node\n",
    "        current.eos = True\n",
    "        print(\"successfully Inserted\")\n",
    "     \n",
    "    \n",
    "    \n",
    "    def searchString(self, word):\n",
    "        current = self.root\n",
    "        for i in word:\n",
    "            ch = i\n",
    "            node = current.character.get(ch)\n",
    "\n",
    "            if node == None:\n",
    "                print(\"word not present!!!\")\n",
    "                return False\n",
    "            current = node \n",
    "\n",
    "        if current.eos ==True:\n",
    "            return True\n",
    "        else:\n",
    "            return False\n",
    "    \n",
    "    def deleteString(root, word, index)"
   ]
  },
  {
   "cell_type": "code",
   "execution_count": 33,
   "metadata": {},
   "outputs": [
    {
     "name": "stdout",
     "output_type": "stream",
     "text": [
      "successfully Inserted\n"
     ]
    }
   ],
   "source": [
    "newTrie = Trie()\n",
    "newTrie.insertString(\"ABS\")"
   ]
  },
  {
   "cell_type": "code",
   "execution_count": 34,
   "metadata": {},
   "outputs": [
    {
     "name": "stdout",
     "output_type": "stream",
     "text": [
      "successfully Inserted\n"
     ]
    }
   ],
   "source": [
    "newTrie.insertString(\"ABS\")"
   ]
  },
  {
   "cell_type": "code",
   "execution_count": 36,
   "metadata": {},
   "outputs": [
    {
     "name": "stdout",
     "output_type": "stream",
     "text": [
      "successfully Inserted\n"
     ]
    }
   ],
   "source": [
    "newTrie.insertString(\"ABC\")"
   ]
  },
  {
   "cell_type": "code",
   "execution_count": 35,
   "metadata": {},
   "outputs": [
    {
     "data": {
      "text/plain": [
       "True"
      ]
     },
     "execution_count": 35,
     "metadata": {},
     "output_type": "execute_result"
    }
   ],
   "source": [
    "newTrie.searchString(\"ABS\")"
   ]
  },
  {
   "cell_type": "code",
   "execution_count": 39,
   "metadata": {},
   "outputs": [
    {
     "name": "stdout",
     "output_type": "stream",
     "text": [
      "word not present!!!\n"
     ]
    },
    {
     "data": {
      "text/plain": [
       "False"
      ]
     },
     "execution_count": 39,
     "metadata": {},
     "output_type": "execute_result"
    }
   ],
   "source": [
    "newTrie.searchString(\"ABSS\")"
   ]
  },
  {
   "cell_type": "code",
   "execution_count": null,
   "metadata": {},
   "outputs": [],
   "source": []
  }
 ],
 "metadata": {
  "kernelspec": {
   "display_name": "Python 3",
   "language": "python",
   "name": "python3"
  },
  "language_info": {
   "codemirror_mode": {
    "name": "ipython",
    "version": 3
   },
   "file_extension": ".py",
   "mimetype": "text/x-python",
   "name": "python",
   "nbconvert_exporter": "python",
   "pygments_lexer": "ipython3",
   "version": "3.8.3"
  }
 },
 "nbformat": 4,
 "nbformat_minor": 4
}
