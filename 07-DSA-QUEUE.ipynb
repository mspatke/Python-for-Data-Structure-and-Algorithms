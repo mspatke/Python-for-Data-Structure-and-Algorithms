{
 "cells": [
  {
   "cell_type": "code",
   "execution_count": 227,
   "metadata": {},
   "outputs": [],
   "source": [
    "class Queue:\n",
    "    \n",
    "    def __init__(self, maxSize):\n",
    "        self.items = maxSize * [None]\n",
    "        self.maxSize = maxSize\n",
    "        self.start = -1\n",
    "        self.top =-1\n",
    "    \n",
    "    def __str__(self):\n",
    "        values = [str(x) for x in self.items]\n",
    "        return ' '.join(values)\n",
    "    \n",
    "    \n",
    "    def isFull(self):\n",
    "        \n",
    "        if self.start + 1 ==self.top:\n",
    "            return True\n",
    "        elif self.start == 0 and  self.top + 1== self.maxSize:\n",
    "            return True        \n",
    "        else:\n",
    "            return False\n",
    "        \n",
    "        \n",
    "    def isEmpty(self):\n",
    "        \n",
    "        no_Of_Elements = abs(abs(self.top - self.start) - self.maxSize )\n",
    "        \n",
    "        if self.top == -1:\n",
    "            return True\n",
    "        if no_Of_Elements < self.maxSize or no_Of_Elements >=0:\n",
    "            return True\n",
    "        else:\n",
    "            return False\n",
    "    \n",
    "    \n",
    "    \n",
    "    def enQueue(self, item):\n",
    "        \n",
    "        if self.isEmpty():\n",
    "            \n",
    "            if self.top ==-1:\n",
    "                self.top +=1\n",
    "                self.items[self.top] = item\n",
    "                self.start = 0\n",
    "                print(\"Item added 1st\")\n",
    "                \n",
    "            elif (self.top + 1) < self.maxSize:\n",
    "                self.top +=1\n",
    "                self.items[self.top ] = item\n",
    "                print(\"Item added 2nd\")\n",
    "                \n",
    "            elif (self.top + 1) >= self.maxSize:\n",
    "                self.top = (self.top + 1 ) % self.maxSize\n",
    "                self.items[self.top] =item\n",
    "                print(\"Item added 3rd\")\n",
    "        else:\n",
    "            print(\"queue is Full\")\n",
    "                \n",
    "    \n",
    "    \n",
    "    def dequeue(self):\n",
    "        \n",
    "        if self.isFull():      \n",
    "            \n",
    "            if (self.start + 1) < self.maxSize:    \n",
    "                temp = self.items[self.start]\n",
    "                self.items[self.start] = None\n",
    "                self.start = self.start + 1\n",
    "            \n",
    "            elif (self.start + 1) >= self.maxSize:\n",
    "                temp = self.items[self.start]\n",
    "                self.items[self.start] = None\n",
    "                self.start = (self.start + 1) % self.maxSize\n",
    "        else:\n",
    "             return \"The queue is empty already!!!\"     \n",
    "            \n",
    "        return temp"
   ]
  },
  {
   "cell_type": "code",
   "execution_count": 228,
   "metadata": {},
   "outputs": [],
   "source": [
    "queue1 = Queue(5)"
   ]
  },
  {
   "cell_type": "code",
   "execution_count": 229,
   "metadata": {},
   "outputs": [
    {
     "name": "stdout",
     "output_type": "stream",
     "text": [
      "Item added 1st\n",
      "Item added 2nd\n",
      "Item added 2nd\n"
     ]
    }
   ],
   "source": [
    "queue1.enQueue(1)\n",
    "queue1.enQueue(2)\n",
    "queue1.enQueue(3)"
   ]
  },
  {
   "cell_type": "code",
   "execution_count": 213,
   "metadata": {},
   "outputs": [
    {
     "name": "stdout",
     "output_type": "stream",
     "text": [
      "1 2 3 None None\n"
     ]
    }
   ],
   "source": [
    "print(queue1)"
   ]
  },
  {
   "cell_type": "markdown",
   "metadata": {},
   "source": [
    "<b>Queue Implemetation using collections, deque </b>"
   ]
  },
  {
   "cell_type": "code",
   "execution_count": 275,
   "metadata": {},
   "outputs": [],
   "source": [
    "from collections import deque\n",
    "import random"
   ]
  },
  {
   "cell_type": "code",
   "execution_count": 276,
   "metadata": {},
   "outputs": [
    {
     "name": "stdout",
     "output_type": "stream",
     "text": [
      "deque([], maxlen=10)\n"
     ]
    }
   ],
   "source": [
    "queue2 = deque(maxlen=10)\n",
    "print(queue2)"
   ]
  },
  {
   "cell_type": "code",
   "execution_count": 278,
   "metadata": {},
   "outputs": [],
   "source": [
    "for i in range(10):\n",
    "    queue2.append(random.randint(0,100))"
   ]
  },
  {
   "cell_type": "code",
   "execution_count": 279,
   "metadata": {},
   "outputs": [
    {
     "name": "stdout",
     "output_type": "stream",
     "text": [
      "deque([11, 67, 30, 95, 36, 7, 75, 7, 96, 88], maxlen=10)\n"
     ]
    }
   ],
   "source": [
    "print(queue2)"
   ]
  },
  {
   "cell_type": "markdown",
   "metadata": {},
   "source": [
    "methods:\n",
    "1)append()\n",
    "2)appendleft()\n",
    "3)pop()\n",
    "4)popleft()"
   ]
  },
  {
   "cell_type": "markdown",
   "metadata": {},
   "source": [
    "<b>Queue Implemetation using Queue class </b>"
   ]
  },
  {
   "cell_type": "code",
   "execution_count": 289,
   "metadata": {},
   "outputs": [],
   "source": [
    "import queue as q"
   ]
  },
  {
   "cell_type": "code",
   "execution_count": 290,
   "metadata": {},
   "outputs": [],
   "source": [
    "queue3 = q.Queue(maxsize = 3)"
   ]
  },
  {
   "cell_type": "code",
   "execution_count": 291,
   "metadata": {},
   "outputs": [
    {
     "name": "stdout",
     "output_type": "stream",
     "text": [
      "0\n"
     ]
    }
   ],
   "source": [
    "print(queue3.qsize())"
   ]
  },
  {
   "cell_type": "code",
   "execution_count": 293,
   "metadata": {},
   "outputs": [],
   "source": [
    "queue3.put(1)\n",
    "queue3.put(2)\n",
    "queue3.put(3)"
   ]
  },
  {
   "cell_type": "code",
   "execution_count": 294,
   "metadata": {},
   "outputs": [
    {
     "data": {
      "text/plain": [
       "True"
      ]
     },
     "execution_count": 294,
     "metadata": {},
     "output_type": "execute_result"
    }
   ],
   "source": [
    "queue3.full()"
   ]
  },
  {
   "cell_type": "code",
   "execution_count": 295,
   "metadata": {},
   "outputs": [
    {
     "data": {
      "text/plain": [
       "1"
      ]
     },
     "execution_count": 295,
     "metadata": {},
     "output_type": "execute_result"
    }
   ],
   "source": [
    "queue3.get()"
   ]
  },
  {
   "cell_type": "code",
   "execution_count": 298,
   "metadata": {},
   "outputs": [],
   "source": [
    "queue3.put(11)"
   ]
  },
  {
   "cell_type": "code",
   "execution_count": 300,
   "metadata": {},
   "outputs": [
    {
     "data": {
      "text/plain": [
       "3"
      ]
     },
     "execution_count": 300,
     "metadata": {},
     "output_type": "execute_result"
    }
   ],
   "source": [
    "queue3.qsize()"
   ]
  },
  {
   "cell_type": "code",
   "execution_count": null,
   "metadata": {},
   "outputs": [],
   "source": []
  }
 ],
 "metadata": {
  "kernelspec": {
   "display_name": "Python 3",
   "language": "python",
   "name": "python3"
  },
  "language_info": {
   "codemirror_mode": {
    "name": "ipython",
    "version": 3
   },
   "file_extension": ".py",
   "mimetype": "text/x-python",
   "name": "python",
   "nbconvert_exporter": "python",
   "pygments_lexer": "ipython3",
   "version": "3.8.3"
  }
 },
 "nbformat": 4,
 "nbformat_minor": 4
}
