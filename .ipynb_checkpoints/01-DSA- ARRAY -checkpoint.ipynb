{
 "cells": [
  {
   "cell_type": "code",
   "execution_count": 33,
   "metadata": {},
   "outputs": [],
   "source": [
    "#Peak Element\n",
    "\n",
    "import numpy as np"
   ]
  },
  {
   "cell_type": "code",
   "execution_count": 107,
   "metadata": {},
   "outputs": [],
   "source": [
    "array = [41,2,9,3,4,5,11,7,8,22,22]\n",
    "n= len(array)"
   ]
  },
  {
   "cell_type": "code",
   "execution_count": 26,
   "metadata": {},
   "outputs": [
    {
     "name": "stdout",
     "output_type": "stream",
     "text": [
      "Peak element present at index 0\n"
     ]
    }
   ],
   "source": [
    "# for i in range(len(array)):\n",
    "#     if array[i]==max(array):\n",
    "#         print(\"Peak element present at index\",i)"
   ]
  },
  {
   "cell_type": "code",
   "execution_count": 35,
   "metadata": {},
   "outputs": [
    {
     "name": "stdout",
     "output_type": "stream",
     "text": [
      "Peak element present at  11\n"
     ]
    }
   ],
   "source": [
    "array.sort()\n",
    "print(\"Peak element present at \", len(array))"
   ]
  },
  {
   "cell_type": "code",
   "execution_count": 42,
   "metadata": {},
   "outputs": [],
   "source": [
    "def getMinMax(array, n):\n",
    "    \n",
    "    min= array[0]\n",
    "    max= array[0]\n",
    "    \n",
    "    for i in range(1,n):\n",
    "        \n",
    "        if array[i]<min:\n",
    "            min= array[i]\n",
    "        if array[i]>max:\n",
    "            max = array[i]\n",
    "   \n",
    "    return (min,max)"
   ]
  },
  {
   "cell_type": "code",
   "execution_count": 43,
   "metadata": {},
   "outputs": [
    {
     "data": {
      "text/plain": [
       "(2, 41)"
      ]
     },
     "execution_count": 43,
     "metadata": {},
     "output_type": "execute_result"
    }
   ],
   "source": [
    "getMinMax(array, n)"
   ]
  },
  {
   "cell_type": "code",
   "execution_count": 73,
   "metadata": {},
   "outputs": [],
   "source": [
    " def reverseArray(array, n):\n",
    "        reversearray =[]\n",
    "        \n",
    "        for i in range(n-1,-1,-1):\n",
    "            reversearray.append(array[i])\n",
    "            \n",
    "        return reversearray\n",
    "    "
   ]
  },
  {
   "cell_type": "code",
   "execution_count": 74,
   "metadata": {},
   "outputs": [
    {
     "data": {
      "text/plain": [
       "[22, 22, 8, 7, 11, 5, 4, 3, 9, 2, 41]"
      ]
     },
     "execution_count": 74,
     "metadata": {},
     "output_type": "execute_result"
    }
   ],
   "source": [
    "reverseArray(array, n)"
   ]
  },
  {
   "cell_type": "code",
   "execution_count": 115,
   "metadata": {},
   "outputs": [
    {
     "data": {
      "text/plain": [
       "[41, 2, 9, 3, 4, 5, 11, 7, 8, 22, 22]"
      ]
     },
     "execution_count": 115,
     "metadata": {},
     "output_type": "execute_result"
    }
   ],
   "source": [
    "array = [41,2,9,3,4,5,11,7,8,22,22]\n",
    "n= len(array)\n",
    "array"
   ]
  },
  {
   "cell_type": "code",
   "execution_count": 116,
   "metadata": {},
   "outputs": [],
   "source": [
    "for i in range(n):\n",
    "    for j in range(i+1,n):\n",
    "        \n",
    "        if array[i] > array[j]:\n",
    "            \n",
    "            array[i], array[j] = array[j], array[i]\n",
    "    "
   ]
  },
  {
   "cell_type": "code",
   "execution_count": 145,
   "metadata": {},
   "outputs": [],
   "source": [
    "array = [23, 74, 18, 41, 22]"
   ]
  },
  {
   "cell_type": "code",
   "execution_count": 150,
   "metadata": {},
   "outputs": [
    {
     "name": "stdout",
     "output_type": "stream",
     "text": [
      "[22, 41, 18, 74, 23]\n"
     ]
    }
   ],
   "source": [
    "#Reverse array\n",
    "array = [23, 74, 18, 41, 22]\n",
    "\n",
    "end = len(array)-1\n",
    "\n",
    "if len(array)%2==0: # if it is even \n",
    "    \n",
    "    for i in range (int(len(array)/2)):    \n",
    "        array[i], array[end] = array[end], array[i]\n",
    "        end = end -1\n",
    "else:\n",
    "    \n",
    "    for i in range (int(len(array)/2)):   \n",
    "        if i == end:\n",
    "            print(i,end)\n",
    "            break\n",
    "        else:\n",
    "            array[i], array[end] = array[end], array[i]\n",
    "            end = end -1\n",
    "\n",
    "print(array)  "
   ]
  },
  {
   "cell_type": "code",
   "execution_count": 155,
   "metadata": {},
   "outputs": [],
   "source": [
    "array = [23, 74, 18, 41, 22,50]\n",
    "end = len(array)-1\n",
    "\n",
    "for i in range (int(len(array)/2)):    \n",
    "    array[i], array[end] = array[end], array[i]\n",
    "    end = end -1"
   ]
  },
  {
   "cell_type": "code",
   "execution_count": 156,
   "metadata": {},
   "outputs": [
    {
     "data": {
      "text/plain": [
       "[50, 22, 41, 18, 74, 23]"
      ]
     },
     "execution_count": 156,
     "metadata": {},
     "output_type": "execute_result"
    }
   ],
   "source": [
    "array"
   ]
  },
  {
   "cell_type": "markdown",
   "metadata": {},
   "source": [
    "Find Kth max and min from list"
   ]
  },
  {
   "cell_type": "code",
   "execution_count": 163,
   "metadata": {},
   "outputs": [],
   "source": [
    "array = [23, 74, 18, 41, 22]"
   ]
  },
  {
   "cell_type": "code",
   "execution_count": 173,
   "metadata": {},
   "outputs": [],
   "source": [
    "def getKMinMax(array, n, k):\n",
    "    \n",
    "    # step 1: sort the array\n",
    "    \n",
    "    for i in range(n):\n",
    "        for j in range(i+1, n):\n",
    "            if array[i]>array[j]:\n",
    "                array[i], array[j] = array[j], array[i]\n",
    "    print(array)\n",
    "    \n",
    "    # step 2 : Find kth min\n",
    "    min= array[k-1]\n",
    "    print(\"Kth Minimum:\", array[k-1])\n",
    "    \n",
    "    #step 3: Find kth Max\n",
    "    max = array[n-k]\n",
    "    print(\"Kth Maximun:\", array[n-k])\n",
    "    \n",
    "    return min, max\n",
    "    "
   ]
  },
  {
   "cell_type": "code",
   "execution_count": 174,
   "metadata": {},
   "outputs": [
    {
     "name": "stdout",
     "output_type": "stream",
     "text": [
      "[2, 45, 95, 99, 100, 1000]\n",
      "Kth Minimum: 45\n",
      "Kth Maximun: 100\n"
     ]
    },
    {
     "data": {
      "text/plain": [
       "(45, 100)"
      ]
     },
     "execution_count": 174,
     "metadata": {},
     "output_type": "execute_result"
    }
   ],
   "source": [
    "array= [100, 99, 45, 95, 2, 1000]\n",
    "getKMinMax(array, len(array), 2)"
   ]
  },
  {
   "cell_type": "code",
   "execution_count": 177,
   "metadata": {},
   "outputs": [
    {
     "data": {
      "text/plain": [
       "[0, 1, 1, 2, 0, 0, 2, 1, 2]"
      ]
     },
     "execution_count": 177,
     "metadata": {},
     "output_type": "execute_result"
    }
   ],
   "source": [
    "array"
   ]
  },
  {
   "cell_type": "markdown",
   "metadata": {},
   "source": [
    "Sort array which contains 0,1 and 2"
   ]
  },
  {
   "cell_type": "code",
   "execution_count": 215,
   "metadata": {},
   "outputs": [],
   "source": [
    "newarray= [0,1,1,2,0,0,2,1,2]\n",
    "#"
   ]
  },
  {
   "cell_type": "code",
   "execution_count": 218,
   "metadata": {},
   "outputs": [],
   "source": [
    "def sortarray(array, n):\n",
    "    \n",
    "    b0,b1,b2=0,0,0\n",
    "    k=0\n",
    "    \n",
    "    for i in range(n):\n",
    "        if array[i]==0:\n",
    "            b0+=1\n",
    "        elif array[i]==1:\n",
    "            b1+=1\n",
    "        elif array[i]==2:\n",
    "            b2+=1\n",
    "    \n",
    "    for i in range(b0):\n",
    "        array[k]=0\n",
    "        k=k+1\n",
    "    \n",
    "    for i in range(b1):\n",
    "        array[k]=1\n",
    "        k=k+1\n",
    "    \n",
    "        \n",
    "    for i in range(b2):\n",
    "        array[k]=2\n",
    "        k=k+1\n",
    "    \n",
    "\n",
    "    return array"
   ]
  },
  {
   "cell_type": "code",
   "execution_count": 219,
   "metadata": {},
   "outputs": [
    {
     "data": {
      "text/plain": [
       "[0, 0, 0, 1, 1, 1, 2, 2, 2]"
      ]
     },
     "execution_count": 219,
     "metadata": {},
     "output_type": "execute_result"
    }
   ],
   "source": [
    "(sortarray(newarray, len(newarray)))"
   ]
  },
  {
   "cell_type": "markdown",
   "metadata": {},
   "source": [
    "Move all the negative elements to one side of the array "
   ]
  },
  {
   "cell_type": "code",
   "execution_count": 233,
   "metadata": {},
   "outputs": [],
   "source": [
    "array = [-1, 2, -3, 4, 5, 6, -7, 8, 9]"
   ]
  },
  {
   "cell_type": "code",
   "execution_count": 236,
   "metadata": {},
   "outputs": [],
   "source": [
    "def rearrange(array, n):\n",
    "    \n",
    "    arrangeList=[]\n",
    "    k=0\n",
    "    \n",
    "    for i in range(n):\n",
    "        if array[i] < 0: #For negative numbers\n",
    "            arrangeList.append(array[i])\n",
    "            \n",
    "    \n",
    "    for i in range(n):\n",
    "        if array[i] > 0: #For negative numbers\n",
    "            arrangeList.append(array[i])\n",
    "            \n",
    "            \n",
    "    return arrangeList     "
   ]
  },
  {
   "cell_type": "code",
   "execution_count": 237,
   "metadata": {},
   "outputs": [
    {
     "data": {
      "text/plain": [
       "[-1, -3, -7, 2, 4, 5, 6, 8, 9]"
      ]
     },
     "execution_count": 237,
     "metadata": {},
     "output_type": "execute_result"
    }
   ],
   "source": [
    "rearrange(array, len(array))"
   ]
  },
  {
   "cell_type": "markdown",
   "metadata": {},
   "source": [
    "Using two Pointer approach"
   ]
  },
  {
   "cell_type": "code",
   "execution_count": 255,
   "metadata": {},
   "outputs": [],
   "source": [
    "array = [-1, 2, -3, 4, 5, 6, -7, 8, 9, -2, -9, 5, 8, 20,-21]"
   ]
  },
  {
   "cell_type": "code",
   "execution_count": 256,
   "metadata": {},
   "outputs": [],
   "source": [
    "def rearrange_new(array,n):\n",
    "    \n",
    "    k=0\n",
    "    for i in range(n):\n",
    "        if array[i] < 0:\n",
    "            array[k], array[i]= array[i], array[k]\n",
    "            k +=1\n",
    "    \n",
    "    return array"
   ]
  },
  {
   "cell_type": "code",
   "execution_count": 257,
   "metadata": {},
   "outputs": [
    {
     "data": {
      "text/plain": [
       "[-1, -3, -7, -2, -9, -21, 2, 8, 9, 4, 5, 5, 8, 20, 6]"
      ]
     },
     "execution_count": 257,
     "metadata": {},
     "output_type": "execute_result"
    }
   ],
   "source": [
    "rearrange_new(array,len(array))"
   ]
  },
  {
   "cell_type": "markdown",
   "metadata": {},
   "source": [
    "Write a program to cyclically rotate an array by one."
   ]
  },
  {
   "cell_type": "code",
   "execution_count": 318,
   "metadata": {},
   "outputs": [],
   "source": [
    "array = [9, 8, 7, 6, 4]"
   ]
  },
  {
   "cell_type": "code",
   "execution_count": 319,
   "metadata": {},
   "outputs": [],
   "source": [
    "def rotatebyone(array, n):\n",
    "    end = n-1\n",
    "    temp = array[end]\n",
    "    \n",
    "    for i in range(end,0,-1):\n",
    "        print(i, i-1)\n",
    "        array[i] = array[i-1]\n",
    "    \n",
    "    array[0]=temp\n",
    "    return array        "
   ]
  },
  {
   "cell_type": "code",
   "execution_count": 320,
   "metadata": {},
   "outputs": [
    {
     "name": "stdout",
     "output_type": "stream",
     "text": [
      "4 3\n",
      "3 2\n",
      "2 1\n",
      "1 0\n"
     ]
    },
    {
     "data": {
      "text/plain": [
       "[4, 9, 8, 7, 6]"
      ]
     },
     "execution_count": 320,
     "metadata": {},
     "output_type": "execute_result"
    }
   ],
   "source": [
    "rotatebyone(array, len(array))"
   ]
  },
  {
   "cell_type": "code",
   "execution_count": 339,
   "metadata": {},
   "outputs": [],
   "source": [
    "import math"
   ]
  },
  {
   "cell_type": "code",
   "execution_count": 343,
   "metadata": {},
   "outputs": [],
   "source": [
    "array= [1,2,3,-2,5]"
   ]
  },
  {
   "cell_type": "code",
   "execution_count": 344,
   "metadata": {},
   "outputs": [],
   "source": [
    "def maxsubArraySum(array):\n",
    "    \n",
    "    n = len(array)\n",
    "    cumsum = 0\n",
    "    maxsum = array[0]\n",
    "    \n",
    "    for i in range(n):\n",
    "        \n",
    "        cumsum = cumsum + array[i]\n",
    "        \n",
    "        maxsum = max(cumsum,maxsum)\n",
    "        \n",
    "        if cumsum < 0:\n",
    "            cumsum = 0\n",
    "            \n",
    "    return maxsum\n",
    "        \n",
    "    "
   ]
  },
  {
   "cell_type": "code",
   "execution_count": 345,
   "metadata": {},
   "outputs": [
    {
     "data": {
      "text/plain": [
       "9"
      ]
     },
     "execution_count": 345,
     "metadata": {},
     "output_type": "execute_result"
    }
   ],
   "source": [
    "maxsubArraySum(array)"
   ]
  },
  {
   "cell_type": "markdown",
   "metadata": {},
   "source": [
    "Find the Union and Intersection of the two sorted arrays."
   ]
  },
  {
   "cell_type": "code",
   "execution_count": 388,
   "metadata": {},
   "outputs": [],
   "source": [
    "arr1 = [1,3,4,5,7]\n",
    "arr2 = [2,3,5,9]\n",
    "\n",
    "\n",
    "i,j=0,0"
   ]
  },
  {
   "cell_type": "code",
   "execution_count": 389,
   "metadata": {},
   "outputs": [],
   "source": [
    "# This code will work if array is sorted and no duplicate element\n",
    "def union2arrays(arr1, arr2):\n",
    "    \n",
    "    union=[]\n",
    "    i,j=0,0\n",
    "    m = len(arr1)\n",
    "    n = len(arr2)\n",
    "\n",
    "    while(i<m and j<n):\n",
    "        print(i, j)\n",
    "        if arr1[i] < arr2[j]:\n",
    "            union.append(arr1[i])\n",
    "            i+=1\n",
    "\n",
    "        elif arr2[j] < arr1[i]:\n",
    "            union.append(arr2[j])\n",
    "            j+=1\n",
    "\n",
    "        else:\n",
    "            union.append(arr1[i])\n",
    "            i+=1\n",
    "            j+=1\n",
    "\n",
    "\n",
    "    while(i<m):\n",
    "        union.append(arr1[i])\n",
    "        i+=1\n",
    "\n",
    "\n",
    "    while(j<n):\n",
    "        union.append(arr2[j])\n",
    "        j+=1  \n",
    "    \n",
    "    return union"
   ]
  },
  {
   "cell_type": "code",
   "execution_count": 390,
   "metadata": {},
   "outputs": [
    {
     "name": "stdout",
     "output_type": "stream",
     "text": [
      "0 0\n",
      "1 0\n",
      "1 1\n",
      "2 2\n",
      "3 2\n",
      "4 3\n"
     ]
    },
    {
     "data": {
      "text/plain": [
       "[1, 2, 3, 4, 5, 7, 9]"
      ]
     },
     "execution_count": 390,
     "metadata": {},
     "output_type": "execute_result"
    }
   ],
   "source": [
    "union2arrays(arr1, arr2)"
   ]
  },
  {
   "cell_type": "code",
   "execution_count": 416,
   "metadata": {},
   "outputs": [],
   "source": [
    "arr1 = [1,3,4,5,7]\n",
    "arr2 = [2,3,5,6]\n",
    "\n",
    "nums1 = [1,2,2,1]\n",
    "nums2 = [2,2]"
   ]
  },
  {
   "cell_type": "code",
   "execution_count": 430,
   "metadata": {},
   "outputs": [],
   "source": [
    "def intersection(arr1, arr2):\n",
    "    \n",
    "    intersection=[]\n",
    "    i,j=0,0\n",
    "    m = len(arr1)\n",
    "    n = len(arr2)\n",
    "    \n",
    "    set1 = set(arr1)\n",
    "    set2 = set(arr2)\n",
    "    \n",
    "    while(i<m and j<n):\n",
    "        \n",
    "        if set1[i] < set2[j]:\n",
    "            i+=1\n",
    "        \n",
    "        elif set2[j] < set1[i]:\n",
    "            j+=1\n",
    "        \n",
    "        elif set1[i]==set2[j]:\n",
    "            intersection.append(set1[i])\n",
    "            i+=1\n",
    "            j+=1            \n",
    "\n",
    "    return intersection"
   ]
  },
  {
   "cell_type": "code",
   "execution_count": 432,
   "metadata": {},
   "outputs": [],
   "source": [
    "# nums1 = [4,9,5]\n",
    "# nums2 = [9,4,9,8,4]\n",
    "# intersection(nums1, nums2)"
   ]
  },
  {
   "cell_type": "code",
   "execution_count": 427,
   "metadata": {},
   "outputs": [
    {
     "data": {
      "text/plain": [
       "{4, 9}"
      ]
     },
     "execution_count": 427,
     "metadata": {},
     "output_type": "execute_result"
    }
   ],
   "source": [
    "set(nums1) & set(nums2)"
   ]
  },
  {
   "cell_type": "code",
   "execution_count": 446,
   "metadata": {},
   "outputs": [],
   "source": [
    "nums1 = [4,9,5]\n",
    "nums2 = [9,4,9,8,4]\n",
    "\n",
    "set1 = list(set(nums1))\n",
    "set2 = list(set(nums2))"
   ]
  },
  {
   "cell_type": "code",
   "execution_count": 451,
   "metadata": {},
   "outputs": [],
   "source": [
    "def intersection(nums1, nums2):\n",
    "    \n",
    "    intersection=[]\n",
    "    \n",
    "    set1 = list(set(nums1))\n",
    "    set2 = list(set(nums2))\n",
    "    \n",
    "    for i in range(len(set1)):\n",
    "        if set1[i] in set2:\n",
    "            intersection.append(set1[i])\n",
    "    \n",
    "    return intersection"
   ]
  },
  {
   "cell_type": "code",
   "execution_count": 452,
   "metadata": {},
   "outputs": [
    {
     "data": {
      "text/plain": [
       "[9, 4]"
      ]
     },
     "execution_count": 452,
     "metadata": {},
     "output_type": "execute_result"
    }
   ],
   "source": [
    "intersection(nums1, nums2)"
   ]
  },
  {
   "cell_type": "code",
   "execution_count": null,
   "metadata": {},
   "outputs": [],
   "source": []
  },
  {
   "cell_type": "code",
   "execution_count": 456,
   "metadata": {},
   "outputs": [],
   "source": [
    "#Input: \n",
    "nums = [2,7,11,15]\n",
    "target = 9"
   ]
  },
  {
   "cell_type": "code",
   "execution_count": 464,
   "metadata": {},
   "outputs": [],
   "source": [
    "for i in  range(len(nums)):\n",
    "   \n",
    "   serach = target - nums[i]\n",
    "    \n",
    "    for j in range()"
   ]
  },
  {
   "cell_type": "code",
   "execution_count": 2,
   "metadata": {},
   "outputs": [],
   "source": [
    "#Input: \n",
    "nums = [0,2,1,5,3,4]\n",
    "#Output: [0,1,2,4,5,3]"
   ]
  },
  {
   "cell_type": "code",
   "execution_count": 24,
   "metadata": {},
   "outputs": [
    {
     "name": "stdout",
     "output_type": "stream",
     "text": [
      "0 0\n",
      "2 1\n",
      "1 2\n",
      "5 4\n",
      "3 5\n",
      "4 3\n"
     ]
    }
   ],
   "source": [
    "ans=[]\n",
    "for i in range(len(nums)):\n",
    "    ans.append( nums[nums[i]])\n",
    "    \n",
    "    "
   ]
  },
  {
   "cell_type": "code",
   "execution_count": 27,
   "metadata": {},
   "outputs": [],
   "source": [
    "i=0\n",
    "ans=[]\n",
    "while(i<len(nums)):\n",
    "    ans.append( nums[nums[i]])\n",
    "    i+=1"
   ]
  },
  {
   "cell_type": "code",
   "execution_count": 28,
   "metadata": {},
   "outputs": [
    {
     "data": {
      "text/plain": [
       "[0, 1, 2, 4, 5, 3]"
      ]
     },
     "execution_count": 28,
     "metadata": {},
     "output_type": "execute_result"
    }
   ],
   "source": [
    "ans"
   ]
  },
  {
   "cell_type": "code",
   "execution_count": 46,
   "metadata": {},
   "outputs": [],
   "source": [
    "nums = [1,2,1]\n",
    "#Output: [1,2,1,1,2,1]"
   ]
  },
  {
   "cell_type": "code",
   "execution_count": 53,
   "metadata": {},
   "outputs": [],
   "source": [
    "n= len(nums)\n",
    "ans=[]\n",
    "\n",
    "for i in range(n):\n",
    "    ans.insert(i, nums[i])\n",
    "    ans.insert(i + n, nums[i])\n"
   ]
  },
  {
   "cell_type": "code",
   "execution_count": 57,
   "metadata": {},
   "outputs": [
    {
     "data": {
      "text/plain": [
       "[1, 2, 1, 1, 2, 1]"
      ]
     },
     "execution_count": 57,
     "metadata": {},
     "output_type": "execute_result"
    }
   ],
   "source": [
    "ans"
   ]
  },
  {
   "cell_type": "code",
   "execution_count": 67,
   "metadata": {},
   "outputs": [],
   "source": []
  },
  {
   "cell_type": "code",
   "execution_count": 76,
   "metadata": {},
   "outputs": [
    {
     "data": {
      "text/plain": [
       "[1, 2, 3, 4, 5]"
      ]
     },
     "execution_count": 76,
     "metadata": {},
     "output_type": "execute_result"
    }
   ],
   "source": [
    "nums = [1,1,1,1,1]\n",
    "ans=[]\n",
    "for i in range(1,len(nums)+1):\n",
    "    ans.append(sum(nums[:i]))\n",
    "ans    "
   ]
  },
  {
   "cell_type": "code",
   "execution_count": 82,
   "metadata": {},
   "outputs": [
    {
     "data": {
      "text/plain": [
       "[[1, 5, 1], [7, 3, 1], [3, 5, 1]]"
      ]
     },
     "execution_count": 82,
     "metadata": {},
     "output_type": "execute_result"
    }
   ],
   "source": [
    "accounts= [[1,5,1],[7,3,1],[3,5,1]]\n",
    "accounts"
   ]
  },
  {
   "cell_type": "code",
   "execution_count": 89,
   "metadata": {},
   "outputs": [
    {
     "name": "stdout",
     "output_type": "stream",
     "text": [
      "11\n"
     ]
    }
   ],
   "source": [
    "list1=[]\n",
    "d=0\n",
    "for i in accounts:\n",
    "    if sum(i)> d :\n",
    "        d = sum(i)\n",
    "\n",
    "print(d)"
   ]
  },
  {
   "cell_type": "code",
   "execution_count": 94,
   "metadata": {},
   "outputs": [],
   "source": [
    "nums = [2,5,1,3,4,7]\n",
    "n = 3"
   ]
  },
  {
   "cell_type": "code",
   "execution_count": 100,
   "metadata": {},
   "outputs": [
    {
     "data": {
      "text/plain": [
       "[2, 3, 5, 4, 1, 7]"
      ]
     },
     "execution_count": 100,
     "metadata": {},
     "output_type": "execute_result"
    }
   ],
   "source": [
    "ans=[]\n",
    "for i in range(int(len(nums)/2)):\n",
    "    ans.append(nums[i])\n",
    "    ans.append(nums[i+n])\n",
    "ans"
   ]
  },
  {
   "cell_type": "code",
   "execution_count": 105,
   "metadata": {},
   "outputs": [],
   "source": [
    "nums = [2,5,1,3,4,7]\n",
    "n = 3\n",
    "ans,ptr1, ptr2,=[],0,n\n",
    "\n",
    "for i in range(0,len(nums),2):\n",
    "    ans.insert(i,nums[ptr1])\n",
    "    ans.insert(i+1,nums[ptr2])\n",
    "    ptr1+=1\n",
    "    ptr2+=1"
   ]
  },
  {
   "cell_type": "code",
   "execution_count": 106,
   "metadata": {},
   "outputs": [
    {
     "data": {
      "text/plain": [
       "[2, 3, 5, 4, 1, 7]"
      ]
     },
     "execution_count": 106,
     "metadata": {},
     "output_type": "execute_result"
    }
   ],
   "source": [
    "ans"
   ]
  },
  {
   "cell_type": "code",
   "execution_count": 129,
   "metadata": {},
   "outputs": [],
   "source": [
    "nums = [1,1,1,1]\n",
    "n= len(nums)\n",
    "count = 0\n",
    "\n",
    "for i in range(0, n-1):\n",
    "    for j in range(i+1, n):\n",
    "        if (nums[i] == nums[j] and i <j):\n",
    "            count = count + 1"
   ]
  },
  {
   "cell_type": "code",
   "execution_count": 130,
   "metadata": {},
   "outputs": [
    {
     "data": {
      "text/plain": [
       "6"
      ]
     },
     "execution_count": 130,
     "metadata": {},
     "output_type": "execute_result"
    }
   ],
   "source": [
    "count"
   ]
  },
  {
   "cell_type": "code",
   "execution_count": 133,
   "metadata": {},
   "outputs": [],
   "source": [
    "import numpy as np"
   ]
  },
  {
   "cell_type": "code",
   "execution_count": 162,
   "metadata": {},
   "outputs": [],
   "source": [
    "#Input: \n",
    "candies =[4,2,1,1,2]\n",
    "extraCandies = 1\n",
    "#Output: [true,true,true,false,true] "
   ]
  },
  {
   "cell_type": "code",
   "execution_count": 163,
   "metadata": {},
   "outputs": [
    {
     "data": {
      "text/plain": [
       "[5, 3, 2, 2, 3]"
      ]
     },
     "execution_count": 163,
     "metadata": {},
     "output_type": "execute_result"
    }
   ],
   "source": [
    "candies = list(np.add(candies, extraCandies))\n",
    "candies"
   ]
  },
  {
   "cell_type": "code",
   "execution_count": 164,
   "metadata": {},
   "outputs": [],
   "source": [
    "ans=[]\n",
    "\n",
    "candies = list(np.add(candies, extraCandies))\n",
    "\n",
    "for i in range(len(new_candies)):\n",
    "    if new_candies[i] == min(new_candies[:]):\n",
    "        ans.append(\"False\")\n",
    "    else:\n",
    "        ans.append(\"True\")     "
   ]
  },
  {
   "cell_type": "code",
   "execution_count": 165,
   "metadata": {},
   "outputs": [
    {
     "data": {
      "text/plain": [
       "['True', 'True', 'False', 'False', 'True']"
      ]
     },
     "execution_count": 165,
     "metadata": {},
     "output_type": "execute_result"
    }
   ],
   "source": [
    "ans"
   ]
  },
  {
   "cell_type": "code",
   "execution_count": 179,
   "metadata": {},
   "outputs": [],
   "source": [
    "#candies =[4,2,1,1,2]\n",
    "candies =[2,3,5,1,3]\n",
    "\n",
    "extraCandies = 3\n",
    "ans=[]\n",
    "\n",
    "for i in range(len(candies)):\n",
    "    \n",
    "    if candies[i] + extraCandies >= np.max(candies[:]):\n",
    "        ans.append(\"True\")     \n",
    "    else:\n",
    "        ans.append(\"False\")"
   ]
  },
  {
   "cell_type": "code",
   "execution_count": 180,
   "metadata": {},
   "outputs": [
    {
     "data": {
      "text/plain": [
       "['True', 'True', 'True', 'False', 'True']"
      ]
     },
     "execution_count": 180,
     "metadata": {},
     "output_type": "execute_result"
    }
   ],
   "source": [
    "ans"
   ]
  },
  {
   "cell_type": "code",
   "execution_count": 182,
   "metadata": {},
   "outputs": [],
   "source": [
    "#    public String stream[];\n",
    "#     public int ptr=0; \n",
    "\n",
    "#     public OrderedStream(int n) {\n",
    "#         stream=new String[n];\n",
    "#     }\n",
    "    \n",
    "#     public List insert(int idKey, String value) {\n",
    "#         stream[idKey-1]=value;\n",
    "#         List chunk = new ArrayList<>();\n",
    "#         while(ptr < stream.length && stream[ptr]!=null)\n",
    "#         {\n",
    "#             chunk.add(stream[ptr]);\n",
    "#             ptr++;\n",
    "#         }\n",
    "#         return chunk;\n",
    "#     }\n",
    "# # "
   ]
  },
  {
   "cell_type": "code",
   "execution_count": 204,
   "metadata": {},
   "outputs": [],
   "source": [
    "class OrderedStream:\n",
    "    \n",
    "    def __init__(self, n):\n",
    "        self.numbers=[None]*n\n",
    "        self.ptr=0\n",
    "        self.len=n\n",
    "\n",
    "    def insert(self, idKey, value):\n",
    "        \n",
    "        self.numbers[idKey-1]=value\n",
    "        \n",
    "        ans=[]        \n",
    "        \n",
    "        while self.ptr < self.len and self.numbers[self.ptr]!=None:\n",
    "                ans.append(self.numbers[self.ptr])\n",
    "                self.ptr = self.ptr + 1\n",
    "    \n",
    "        return ans"
   ]
  },
  {
   "cell_type": "code",
   "execution_count": 214,
   "metadata": {},
   "outputs": [
    {
     "data": {
      "text/plain": [
       "['A', 'B', 'C', 'D', 'E']"
      ]
     },
     "execution_count": 214,
     "metadata": {},
     "output_type": "execute_result"
    }
   ],
   "source": [
    "os = OrderedStream(5)\n",
    "os.insert(3, \"C\") + os.insert(1,\"A\") + os.insert(2,'B') + os.insert(5,'E') + os.insert(4,\"D\")"
   ]
  },
  {
   "cell_type": "code",
   "execution_count": 225,
   "metadata": {},
   "outputs": [],
   "source": [
    "#Input: \n",
    "nums = [8,1,2,2,3]\n",
    "#Output: [4,0,1,1,3]\n",
    "count =0"
   ]
  },
  {
   "cell_type": "code",
   "execution_count": 221,
   "metadata": {},
   "outputs": [],
   "source": [
    "ans =[]\n",
    "for i in range(len(nums)):\n",
    "    count =0\n",
    "    for j in range(len(nums)):\n",
    "        if nums[i] > nums[j]:\n",
    "            count = count + 1\n",
    "    ans.append(count)"
   ]
  },
  {
   "cell_type": "code",
   "execution_count": 222,
   "metadata": {},
   "outputs": [
    {
     "data": {
      "text/plain": [
       "[4, 0, 1, 1, 3]"
      ]
     },
     "execution_count": 222,
     "metadata": {},
     "output_type": "execute_result"
    }
   ],
   "source": [
    "ans"
   ]
  },
  {
   "cell_type": "code",
   "execution_count": 227,
   "metadata": {},
   "outputs": [],
   "source": [
    "def smallerNumbersThanCurrent(nums):\n",
    "\t\n",
    "        temp=[0]*101\n",
    "\t\t\n",
    "        for n in nums: \n",
    "            temp[n]+=1\n",
    "\t\t\t\n",
    "        return [sum(temp[:num]) for num in nums]"
   ]
  },
  {
   "cell_type": "code",
   "execution_count": 231,
   "metadata": {},
   "outputs": [
    {
     "data": {
      "text/plain": [
       "[4, 0, 1, 1, 3]"
      ]
     },
     "execution_count": 231,
     "metadata": {},
     "output_type": "execute_result"
    }
   ],
   "source": [
    "nums = [8,1,2,2,3]\n",
    "smallerNumbersThanCurrent(nums)"
   ]
  },
  {
   "cell_type": "code",
   "execution_count": 234,
   "metadata": {},
   "outputs": [],
   "source": [
    "temp=[0]*101"
   ]
  },
  {
   "cell_type": "code",
   "execution_count": 235,
   "metadata": {},
   "outputs": [],
   "source": [
    "for n in nums:\n",
    "    temp[n]+=1"
   ]
  },
  {
   "cell_type": "code",
   "execution_count": 236,
   "metadata": {},
   "outputs": [
    {
     "name": "stdout",
     "output_type": "stream",
     "text": [
      "[0, 1, 2, 1, 0, 0, 0, 0, 1, 0, 0, 0, 0, 0, 0, 0, 0, 0, 0, 0, 0, 0, 0, 0, 0, 0, 0, 0, 0, 0, 0, 0, 0, 0, 0, 0, 0, 0, 0, 0, 0, 0, 0, 0, 0, 0, 0, 0, 0, 0, 0, 0, 0, 0, 0, 0, 0, 0, 0, 0, 0, 0, 0, 0, 0, 0, 0, 0, 0, 0, 0, 0, 0, 0, 0, 0, 0, 0, 0, 0, 0, 0, 0, 0, 0, 0, 0, 0, 0, 0, 0, 0, 0, 0, 0, 0, 0, 0, 0, 0, 0]\n"
     ]
    }
   ],
   "source": [
    "print(temp)"
   ]
  },
  {
   "cell_type": "code",
   "execution_count": 239,
   "metadata": {},
   "outputs": [
    {
     "name": "stdout",
     "output_type": "stream",
     "text": [
      "4\n",
      "0\n",
      "1\n",
      "1\n",
      "3\n"
     ]
    }
   ],
   "source": [
    "for num in nums:\n",
    "    print(sum(temp[:num]))"
   ]
  },
  {
   "cell_type": "code",
   "execution_count": 299,
   "metadata": {},
   "outputs": [],
   "source": [
    "#nums = [1,2,3,4]\n",
    "nums = [42,39]\n",
    "#Output: [2,4,4,4]\n"
   ]
  },
  {
   "cell_type": "code",
   "execution_count": 302,
   "metadata": {},
   "outputs": [
    {
     "name": "stdout",
     "output_type": "stream",
     "text": [
      "39 42\n"
     ]
    }
   ],
   "source": [
    "ans=[]\n",
    "for i in range(0,len(nums),2):\n",
    "    print(nums[i+1], nums[i])\n",
    "    ans.append((str(nums[i+1]) * nums[i] ))\n",
    "\n",
    "#[int(x) for x in list(\"\".join(ans))]"
   ]
  },
  {
   "cell_type": "code",
   "execution_count": 337,
   "metadata": {},
   "outputs": [],
   "source": []
  },
  {
   "cell_type": "code",
   "execution_count": 343,
   "metadata": {},
   "outputs": [
    {
     "name": "stdout",
     "output_type": "stream",
     "text": [
      "[2]\n",
      "[2, 4, 4, 4]\n"
     ]
    }
   ],
   "source": [
    "nums = [1,2,3,4]\n",
    "ans=[]\n",
    "for i in range(1,len(nums),2):\n",
    "    ans += [nums[i]] * nums[i-1]\n",
    "    print(ans)\n",
    "#print(ans)"
   ]
  },
  {
   "cell_type": "code",
   "execution_count": 346,
   "metadata": {},
   "outputs": [
    {
     "name": "stdout",
     "output_type": "stream",
     "text": [
      "[2, 4, 4, 4]\n"
     ]
    }
   ],
   "source": [
    "new_list = []\n",
    "\n",
    "for val in range(1, len(nums), 2):\n",
    "    freq = nums[val-1]\n",
    "    new_list += [nums[val]] * freq  \n",
    "\n",
    "print(new_list)"
   ]
  },
  {
   "cell_type": "code",
   "execution_count": 335,
   "metadata": {},
   "outputs": [
    {
     "data": {
      "text/plain": [
       "[[2], [4, 4, 4]]"
      ]
     },
     "execution_count": 335,
     "metadata": {},
     "output_type": "execute_result"
    }
   ],
   "source": []
  },
  {
   "cell_type": "code",
   "execution_count": 369,
   "metadata": {},
   "outputs": [],
   "source": [
    "arr = [1,4,2,5,3]\n",
    "odd_len=[]"
   ]
  },
  {
   "cell_type": "code",
   "execution_count": 370,
   "metadata": {},
   "outputs": [
    {
     "name": "stdout",
     "output_type": "stream",
     "text": [
      "1\n",
      "3\n",
      "5\n"
     ]
    }
   ],
   "source": [
    "for i in range(len(arr)+1):\n",
    "    if i%2 !=0:\n",
    "        print(i)\n",
    "        odd_len.append(i)\n",
    "    \n",
    "    "
   ]
  },
  {
   "cell_type": "code",
   "execution_count": 376,
   "metadata": {},
   "outputs": [
    {
     "name": "stdout",
     "output_type": "stream",
     "text": [
      "4\n",
      "2\n",
      "5\n"
     ]
    }
   ],
   "source": [
    "arr = [1,4,2,5,3]\n",
    "for i in range(1,len(nums),1):\n",
    "    print(arr[i])"
   ]
  },
  {
   "cell_type": "code",
   "execution_count": 412,
   "metadata": {},
   "outputs": [
    {
     "name": "stdout",
     "output_type": "stream",
     "text": [
      "58\n"
     ]
    }
   ],
   "source": [
    "nums = [1,4,2,5,3]\n",
    "\n",
    "odd_len=[]\n",
    "res =[]\n",
    "\n",
    "for i in range(len(nums)+1):\n",
    "    if i%2 !=0:\n",
    "        odd_len.append(i)\n",
    "    \n",
    "    \n",
    "for i in range(len(nums)):\n",
    "    if len(nums[i:i+odd_len[0]]) == odd_len[0]:\n",
    "        res.append(nums[i:i+odd_len[0]])\n",
    "        \n",
    "    if len(nums[i:i+odd_len[1]]) == odd_len[1]:\n",
    "        res.append(nums[i:i+odd_len[1]])\n",
    "    \n",
    "    if len(nums[i:i+odd_len[2]]) == odd_len[2]:\n",
    "        res.append(nums[i:i+odd_len[2]])\n",
    "\n",
    "print(sum(sum( res , [])))"
   ]
  },
  {
   "cell_type": "code",
   "execution_count": 406,
   "metadata": {},
   "outputs": [
    {
     "data": {
      "text/plain": [
       "[1, 3, 5]"
      ]
     },
     "execution_count": 406,
     "metadata": {},
     "output_type": "execute_result"
    }
   ],
   "source": [
    "odd_len"
   ]
  },
  {
   "cell_type": "code",
   "execution_count": 407,
   "metadata": {},
   "outputs": [],
   "source": [
    "result = sum(sum( res , []))"
   ]
  },
  {
   "cell_type": "code",
   "execution_count": 410,
   "metadata": {},
   "outputs": [
    {
     "data": {
      "text/plain": [
       "58"
      ]
     },
     "execution_count": 410,
     "metadata": {},
     "output_type": "execute_result"
    }
   ],
   "source": [
    "sum(result)"
   ]
  },
  {
   "cell_type": "code",
   "execution_count": 409,
   "metadata": {},
   "outputs": [
    {
     "data": {
      "text/plain": [
       "[[1], [1, 4, 2], [1, 4, 2, 5, 3], [4], [4, 2, 5], [2], [2, 5, 3], [5], [3]]"
      ]
     },
     "execution_count": 409,
     "metadata": {},
     "output_type": "execute_result"
    }
   ],
   "source": [
    "res"
   ]
  },
  {
   "cell_type": "code",
   "execution_count": 420,
   "metadata": {},
   "outputs": [
    {
     "name": "stdout",
     "output_type": "stream",
     "text": [
      "186\n"
     ]
    }
   ],
   "source": [
    "nums = [1,4,2,5,3,7,9]\n",
    "odd_len=[]\n",
    "res =[]\n",
    "\n",
    "for i in range(len(nums)+1):\n",
    "    if i%2!=0:\n",
    "        odd_len.append(i)\n",
    "\n",
    "for l in range(1,len(odd_len)):    \n",
    "    for i in range(len(nums)):\n",
    "        if len(nums[i:i+odd_len[l]]) == odd_len[l]:\n",
    "            res.append(nums[i:i+odd_len[l]])\n",
    "\n",
    "print(sum(sum( res , []), sum(nums)))"
   ]
  },
  {
   "cell_type": "code",
   "execution_count": 438,
   "metadata": {},
   "outputs": [],
   "source": [
    "# nums = [1,2,3,4,5,6]\n",
    "# l = len(nums)\n",
    "\n",
    "\n",
    "# for i in range(l):  \n",
    "#     print(\"\\ni\",i,\"- l\",l)\n",
    "#     for j in range(i,l,2):\n",
    "#         print(\"\\nj\",j)\n",
    "#         for k in range(i, j+1, 1):\n",
    "#             print(\"\\nk\",k)\n",
    "#             break\n",
    "    "
   ]
  },
  {
   "cell_type": "markdown",
   "metadata": {},
   "source": [
    "Inversion of the image:"
   ]
  },
  {
   "cell_type": "code",
   "execution_count": 447,
   "metadata": {},
   "outputs": [],
   "source": [
    "image = [[1,1,0,0],\n",
    "         [1,0,0,1],\n",
    "         [0,1,1,1],\n",
    "         [1,0,1,0]]"
   ]
  },
  {
   "cell_type": "code",
   "execution_count": 448,
   "metadata": {},
   "outputs": [
    {
     "name": "stdout",
     "output_type": "stream",
     "text": [
      "1\n",
      "0\n",
      "1\n",
      "0\n"
     ]
    }
   ],
   "source": [
    "for i in image:\n",
    "    print()"
   ]
  },
  {
   "cell_type": "code",
   "execution_count": 502,
   "metadata": {},
   "outputs": [],
   "source": [
    "image = [[1,1,0,0],\n",
    "         [1,0,0,1],\n",
    "         [0,1,1,1],\n",
    "         [1,0,1,0]]"
   ]
  },
  {
   "cell_type": "code",
   "execution_count": 476,
   "metadata": {},
   "outputs": [
    {
     "data": {
      "text/plain": [
       "[0, 0, 1, 1]"
      ]
     },
     "execution_count": 476,
     "metadata": {},
     "output_type": "execute_result"
    }
   ],
   "source": [
    "list1 = [1,1,0,0]\n",
    "list1[:: -1]"
   ]
  },
  {
   "cell_type": "code",
   "execution_count": 488,
   "metadata": {},
   "outputs": [],
   "source": [
    "for i in range(len(image)):\n",
    "    image[i] = image[i][::-1]\n",
    "    "
   ]
  },
  {
   "cell_type": "code",
   "execution_count": 493,
   "metadata": {},
   "outputs": [],
   "source": [
    "# fruits = [\"mango\" if i%3==0 else \"orange\" for i in range(10)"
   ]
  },
  {
   "cell_type": "code",
   "execution_count": 495,
   "metadata": {},
   "outputs": [
    {
     "data": {
      "text/plain": [
       "[0, 0, 0, 0]"
      ]
     },
     "execution_count": 495,
     "metadata": {},
     "output_type": "execute_result"
    }
   ],
   "source": [
    "[1 if i == 0 else 0 for i in image]"
   ]
  },
  {
   "cell_type": "code",
   "execution_count": 501,
   "metadata": {},
   "outputs": [
    {
     "data": {
      "text/plain": [
       "[1, 1, 1, 1]"
      ]
     },
     "execution_count": 501,
     "metadata": {},
     "output_type": "execute_result"
    }
   ],
   "source": [
    "image"
   ]
  },
  {
   "cell_type": "code",
   "execution_count": 499,
   "metadata": {},
   "outputs": [
    {
     "ename": "TypeError",
     "evalue": "'int' object is not subscriptable",
     "output_type": "error",
     "traceback": [
      "\u001b[1;31m---------------------------------------------------------------------------\u001b[0m",
      "\u001b[1;31mTypeError\u001b[0m                                 Traceback (most recent call last)",
      "\u001b[1;32m<ipython-input-499-8c9f51c255b7>\u001b[0m in \u001b[0;36m<module>\u001b[1;34m\u001b[0m\n\u001b[0;32m      1\u001b[0m \u001b[1;32mfor\u001b[0m \u001b[0mi\u001b[0m \u001b[1;32min\u001b[0m \u001b[0mrange\u001b[0m\u001b[1;33m(\u001b[0m\u001b[0mlen\u001b[0m\u001b[1;33m(\u001b[0m\u001b[0mimage\u001b[0m\u001b[1;33m)\u001b[0m\u001b[1;33m)\u001b[0m\u001b[1;33m:\u001b[0m\u001b[1;33m\u001b[0m\u001b[1;33m\u001b[0m\u001b[0m\n\u001b[1;32m----> 2\u001b[1;33m     \u001b[1;32mif\u001b[0m \u001b[0mimage\u001b[0m\u001b[1;33m[\u001b[0m\u001b[0mi\u001b[0m\u001b[1;33m]\u001b[0m\u001b[1;33m[\u001b[0m\u001b[1;33m:\u001b[0m\u001b[1;33m]\u001b[0m \u001b[1;33m==\u001b[0m \u001b[1;36m1\u001b[0m\u001b[1;33m:\u001b[0m\u001b[1;33m\u001b[0m\u001b[1;33m\u001b[0m\u001b[0m\n\u001b[0m\u001b[0;32m      3\u001b[0m         \u001b[0mimage\u001b[0m\u001b[1;33m[\u001b[0m\u001b[0mi\u001b[0m\u001b[1;33m]\u001b[0m \u001b[1;33m=\u001b[0m \u001b[1;36m0\u001b[0m\u001b[1;33m\u001b[0m\u001b[1;33m\u001b[0m\u001b[0m\n\u001b[0;32m      4\u001b[0m     \u001b[1;32melse\u001b[0m\u001b[1;33m:\u001b[0m\u001b[1;33m\u001b[0m\u001b[1;33m\u001b[0m\u001b[0m\n\u001b[0;32m      5\u001b[0m         \u001b[0mimage\u001b[0m\u001b[1;33m[\u001b[0m\u001b[0mi\u001b[0m\u001b[1;33m]\u001b[0m \u001b[1;33m=\u001b[0m\u001b[1;36m1\u001b[0m\u001b[1;33m\u001b[0m\u001b[1;33m\u001b[0m\u001b[0m\n",
      "\u001b[1;31mTypeError\u001b[0m: 'int' object is not subscriptable"
     ]
    }
   ],
   "source": [
    "# for i in range(len(image)):\n",
    "#     if image[i][:] == 1:\n",
    "#         image[i] = 0\n",
    "#     else:\n",
    "#         image[i] =1"
   ]
  },
  {
   "cell_type": "code",
   "execution_count": 547,
   "metadata": {},
   "outputs": [],
   "source": [
    "image = [[1,1,0,0],\n",
    "         [1,0,0,1],\n",
    "         [0,1,1,1],\n",
    "         [1,0,1,0]]"
   ]
  },
  {
   "cell_type": "code",
   "execution_count": 548,
   "metadata": {},
   "outputs": [
    {
     "name": "stdout",
     "output_type": "stream",
     "text": [
      "[[1, 1, 0, 0], [0, 1, 1, 0], [0, 0, 0, 1], [1, 0, 1, 0]]\n"
     ]
    }
   ],
   "source": [
    "for row in range(len(image)):\n",
    "    image[row] = image[row][::-1]\n",
    "    for col in range(len(image)):\n",
    "        if image[row][col] == 1:\n",
    "            image[row][col] = 0\n",
    "        else:\n",
    "            image[row][col] = 1\n",
    "\n",
    "print(image)            "
   ]
  },
  {
   "cell_type": "code",
   "execution_count": 566,
   "metadata": {},
   "outputs": [],
   "source": [
    "image = [[1,1,0,0],\n",
    "         [1,0,0,1],\n",
    "         [0,1,1,1],\n",
    "         [1,0,1,0]]"
   ]
  },
  {
   "cell_type": "code",
   "execution_count": 549,
   "metadata": {},
   "outputs": [
    {
     "name": "stdout",
     "output_type": "stream",
     "text": [
      "[[1, 1, 0, 0], [0, 1, 1, 0], [0, 0, 0, 1], [1, 0, 1, 0]]\n"
     ]
    }
   ],
   "source": [
    "print(\"[[1, 1, 0, 0], [0, 1, 1, 0], [0, 0, 0, 1], [1, 0, 1, 0]]\")"
   ]
  },
  {
   "cell_type": "code",
   "execution_count": 563,
   "metadata": {},
   "outputs": [
    {
     "data": {
      "text/plain": [
       "[[1, 1, 0, 0], [1, 0, 0, 1], [0, 1, 1, 1], [1, 0, 1, 0]]"
      ]
     },
     "execution_count": 563,
     "metadata": {},
     "output_type": "execute_result"
    }
   ],
   "source": [
    "for row in range(len(image)):\n",
    "    image[row] = image[row][::-1]\n",
    "    for col in range(len(image)):\n",
    "        image[row][col]= 1 - image[row][col]\n",
    "image"
   ]
  },
  {
   "cell_type": "code",
   "execution_count": 568,
   "metadata": {},
   "outputs": [],
   "source": [
    "image = [[1,1,0,0],\n",
    "         [1,0,0,1],\n",
    "         [0,1,1,1],\n",
    "         [1,0,1,0]]"
   ]
  },
  {
   "cell_type": "code",
   "execution_count": 567,
   "metadata": {},
   "outputs": [
    {
     "name": "stdout",
     "output_type": "stream",
     "text": [
      "[[1, 1, 0, 0], [0, 1, 1, 0], [0, 0, 0, 1], [1, 0, 1, 0]]\n"
     ]
    }
   ],
   "source": [
    "result = []\n",
    "\n",
    "for row in image:\n",
    "    result.append(list(map(lambda x: 0 if x == 1 else 1, row[::-1])))\n",
    "print(result)        "
   ]
  },
  {
   "cell_type": "code",
   "execution_count": 570,
   "metadata": {},
   "outputs": [
    {
     "data": {
      "text/plain": [
       "[1, 0, 1, 0]"
      ]
     },
     "execution_count": 570,
     "metadata": {},
     "output_type": "execute_result"
    }
   ],
   "source": [
    "list(map(lambda x:0 if x==1 else 1, row[::-1] ))"
   ]
  },
  {
   "cell_type": "code",
   "execution_count": 581,
   "metadata": {},
   "outputs": [],
   "source": [
    "nums1 = [12,28,46,32,50]\n",
    "nums2 = [50,12,32,46,28]\n",
    "ans= []"
   ]
  },
  {
   "cell_type": "code",
   "execution_count": 578,
   "metadata": {},
   "outputs": [],
   "source": [
    "for i in range(len(nums1)):\n",
    "    for index, value in enumerate(nums2):\n",
    "        if nums1[i] == value:\n",
    "            ans.append(index)\n",
    "return ans"
   ]
  },
  {
   "cell_type": "code",
   "execution_count": 580,
   "metadata": {},
   "outputs": [],
   "source": [
    "res = []\n",
    "        \n",
    "        num2_d = {v: idx for idx, v  in enumerate(nums2)}\n",
    "        \n",
    "        for i in nums1:\n",
    "            res.append(num2_d[i])\n",
    "            \n",
    "        return res\n"
   ]
  },
  {
   "cell_type": "code",
   "execution_count": 585,
   "metadata": {},
   "outputs": [
    {
     "data": {
      "text/plain": [
       "{50: 0, 12: 1, 32: 2, 46: 3, 28: 4}"
      ]
     },
     "execution_count": 585,
     "metadata": {},
     "output_type": "execute_result"
    }
   ],
   "source": [
    "num2_dictionary = {value :index for index, value in enumerate(nums2)}\n",
    "num2_dictionary"
   ]
  },
  {
   "cell_type": "code",
   "execution_count": 588,
   "metadata": {},
   "outputs": [
    {
     "name": "stdout",
     "output_type": "stream",
     "text": [
      "1\n",
      "4\n",
      "3\n",
      "2\n",
      "0\n",
      "[1, 4, 3, 2, 0]\n"
     ]
    }
   ],
   "source": [
    "result  = []\n",
    "num2_dictionary = {value :index for index, value in enumerate(nums2)}\n",
    "\n",
    "for i in nums1:\n",
    "    print(num2_dictionary[i])\n",
    "    result.append(num2_dictionary[i])\n",
    "\n",
    "print(result)"
   ]
  },
  {
   "cell_type": "code",
   "execution_count": 627,
   "metadata": {},
   "outputs": [],
   "source": [
    "# allowed = \"ab\"\n",
    "# words = [\"ad\",\"bd\",\"aaab\",\"baa\",\"badab\"]\n",
    "\n",
    "\n",
    "allowed = \"abc\"\n",
    "words = [\"a\",\"b\",\"c\",\"ab\",\"ac\",\"bc\",\"abc\"]\n",
    "\n",
    "count=0"
   ]
  },
  {
   "cell_type": "code",
   "execution_count": 633,
   "metadata": {},
   "outputs": [
    {
     "name": "stdout",
     "output_type": "stream",
     "text": [
      "1st for loop a\n",
      "2nd for loop a\n",
      "yes\n",
      "1st for loop b\n",
      "2nd for loop a\n",
      "2nd for loop b\n",
      "yes\n",
      "1st for loop c\n",
      "2nd for loop a\n",
      "2nd for loop b\n",
      "2nd for loop c\n",
      "yes\n"
     ]
    }
   ],
   "source": [
    "count=0\n",
    "for char in allowed:\n",
    "    print(\"1st for loop\",char)\n",
    "    for string in words:\n",
    "        print(\"2nd for loop\",string)\n",
    "        if char in string:\n",
    "            count = count + 1\n",
    "            print(\"yes\")\n",
    "            break"
   ]
  },
  {
   "cell_type": "code",
   "execution_count": 631,
   "metadata": {},
   "outputs": [
    {
     "data": {
      "text/plain": [
       "3"
      ]
     },
     "execution_count": 631,
     "metadata": {},
     "output_type": "execute_result"
    }
   ],
   "source": [
    "count"
   ]
  },
  {
   "cell_type": "code",
   "execution_count": 639,
   "metadata": {},
   "outputs": [
    {
     "data": {
      "text/plain": [
       "['abc']"
      ]
     },
     "execution_count": 639,
     "metadata": {},
     "output_type": "execute_result"
    }
   ],
   "source": [
    "allowed.split()"
   ]
  },
  {
   "cell_type": "code",
   "execution_count": null,
   "metadata": {},
   "outputs": [],
   "source": []
  }
 ],
 "metadata": {
  "kernelspec": {
   "display_name": "Python 3",
   "language": "python",
   "name": "python3"
  },
  "language_info": {
   "codemirror_mode": {
    "name": "ipython",
    "version": 3
   },
   "file_extension": ".py",
   "mimetype": "text/x-python",
   "name": "python",
   "nbconvert_exporter": "python",
   "pygments_lexer": "ipython3",
   "version": "3.8.3"
  }
 },
 "nbformat": 4,
 "nbformat_minor": 4
}
