{
 "cells": [
  {
   "cell_type": "code",
   "execution_count": 22,
   "metadata": {},
   "outputs": [],
   "source": [
    "class TreeNode:\n",
    "    \n",
    "    def __init__(self, data, children =[]):\n",
    "        self.data = data\n",
    "        self.children = children\n",
    "    \n",
    "    \n",
    "    def __str__(self, level=0):    \n",
    "        ret = \" \" * level + str(self.data) + \"\\n\"\n",
    "        \n",
    "        for child in self.children:\n",
    "            ret += child.__str__(level + 1)\n",
    "            \n",
    "        return ret\n",
    "    \n",
    "    def addchild(self, TreeNode):\n",
    "        self.children.append(TreeNode)\n",
    "    "
   ]
  },
  {
   "cell_type": "code",
   "execution_count": 23,
   "metadata": {},
   "outputs": [
    {
     "name": "stdout",
     "output_type": "stream",
     "text": [
      "--DRINKS--\t\t\n",
      " COLD DRINKS\t\t\n",
      "  COLA\t\t\n",
      "  FANTA\t\t\n",
      " HOT DRINKS\t\t\n",
      "  TEA\t\t\n",
      "  COFFE\t\t\n",
      "\n"
     ]
    }
   ],
   "source": [
    "tree = TreeNode('--DRINKS--',[])\n",
    "\n",
    "#-----------------------------\n",
    "cold = TreeNode('COLD DRINKS',[])\n",
    "\n",
    "cola = TreeNode('COLA', [])\n",
    "Fanta = TreeNode('FANTA', [])\n",
    "\n",
    "cold.addchild(cola)\n",
    "cold.addchild(Fanta)\n",
    "\n",
    "#-----------------------------\n",
    "hot = TreeNode('HOT DRINKS', [])\n",
    "\n",
    "Tea = TreeNode('TEA',[])\n",
    "coffe = TreeNode('COFFE', [])\n",
    "\n",
    "hot.addchild(Tea)\n",
    "hot.addchild(coffe)\n",
    "#-----------------------------\n",
    "\n",
    "tree.addchild(cold)\n",
    "tree.addchild(hot)\n",
    "\n",
    "print(tree)"
   ]
  },
  {
   "cell_type": "code",
   "execution_count": null,
   "metadata": {},
   "outputs": [],
   "source": []
  },
  {
   "cell_type": "code",
   "execution_count": 156,
   "metadata": {},
   "outputs": [],
   "source": []
  },
  {
   "cell_type": "code",
   "execution_count": null,
   "metadata": {},
   "outputs": [],
   "source": []
  },
  {
   "cell_type": "code",
   "execution_count": null,
   "metadata": {},
   "outputs": [],
   "source": []
  },
  {
   "cell_type": "code",
   "execution_count": null,
   "metadata": {},
   "outputs": [],
   "source": []
  }
 ],
 "metadata": {
  "kernelspec": {
   "display_name": "Python 3",
   "language": "python",
   "name": "python3"
  },
  "language_info": {
   "codemirror_mode": {
    "name": "ipython",
    "version": 3
   },
   "file_extension": ".py",
   "mimetype": "text/x-python",
   "name": "python",
   "nbconvert_exporter": "python",
   "pygments_lexer": "ipython3",
   "version": "3.8.3"
  }
 },
 "nbformat": 4,
 "nbformat_minor": 4
}
