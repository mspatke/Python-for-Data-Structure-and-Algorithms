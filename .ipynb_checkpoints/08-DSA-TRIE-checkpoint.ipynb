{
 "cells": [
  {
   "cell_type": "code",
   "execution_count": 4,
   "metadata": {},
   "outputs": [],
   "source": [
    "class TrieNode:\n",
    "    \n",
    "    def __init__(self):\n",
    "        \n",
    "        self.character = {}\n",
    "        self.EOS = False"
   ]
  },
  {
   "cell_type": "code",
   "execution_count": 5,
   "metadata": {},
   "outputs": [],
   "source": [
    "class Trie:\n",
    "    \n",
    "    def __init__(self):\n",
    "        self.root = TrieNode()\n",
    "    \n",
    "    def insertString(self, word):\n",
    "        \n",
    "        current = self.root\n",
    "        \n",
    "        for i in word:\n",
    "            ch = i\n",
    "            node = current.character.get(ch)\n",
    "            \n",
    "            if node == None:\n",
    "                node = TrieNode()\n",
    "                current.character.update({ch:node})\n",
    "            \n",
    "            current = node\n",
    "        current.eos = True\n",
    "        print(\"successfully Inserted\")\n",
    "        \n",
    "    def "
   ]
  },
  {
   "cell_type": "code",
   "execution_count": null,
   "metadata": {},
   "outputs": [],
   "source": []
  }
 ],
 "metadata": {
  "kernelspec": {
   "display_name": "Python 3",
   "language": "python",
   "name": "python3"
  },
  "language_info": {
   "codemirror_mode": {
    "name": "ipython",
    "version": 3
   },
   "file_extension": ".py",
   "mimetype": "text/x-python",
   "name": "python",
   "nbconvert_exporter": "python",
   "pygments_lexer": "ipython3",
   "version": "3.8.3"
  }
 },
 "nbformat": 4,
 "nbformat_minor": 4
}
