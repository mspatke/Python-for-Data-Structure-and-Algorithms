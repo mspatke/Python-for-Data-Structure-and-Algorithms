{
 "cells": [
  {
   "cell_type": "code",
   "execution_count": 6,
   "metadata": {},
   "outputs": [],
   "source": [
    "import math"
   ]
  },
  {
   "cell_type": "code",
   "execution_count": 52,
   "metadata": {},
   "outputs": [],
   "source": []
  },
  {
   "cell_type": "code",
   "execution_count": 43,
   "metadata": {},
   "outputs": [
    {
     "data": {
      "text/plain": [
       "[-19, -7, -5, 1, 2, 3, 4, 5, 9]"
      ]
     },
     "execution_count": 43,
     "metadata": {},
     "output_type": "execute_result"
    }
   ],
   "source": [
    "#-5 * -7 * 4 \n",
    "-19 * -7 * -5\n",
    "nums"
   ]
  },
  {
   "cell_type": "code",
   "execution_count": 44,
   "metadata": {},
   "outputs": [
    {
     "data": {
      "text/plain": [
       "1197"
      ]
     },
     "execution_count": 44,
     "metadata": {},
     "output_type": "execute_result"
    }
   ],
   "source": [
    "-19 * -7 * 9"
   ]
  },
  {
   "cell_type": "code",
   "execution_count": 54,
   "metadata": {},
   "outputs": [
    {
     "data": {
      "text/plain": [
       "1197"
      ]
     },
     "execution_count": 54,
     "metadata": {},
     "output_type": "execute_result"
    }
   ],
   "source": [
    "nums = [-5, -7, 4, 2, 1, 9, 5, -19, 3]\n",
    "n= len(nums)\n",
    "nums.sort()\n",
    "max_product = - math.inf\n",
    "max_product = max( max_product, (nums[0]* nums[1]* nums[n-1]))\n",
    "max_product = max( max_product, (nums[n-1]* nums[n-2]*nums[n-3]))\n",
    "max_product"
   ]
  },
  {
   "cell_type": "code",
   "execution_count": 20,
   "metadata": {},
   "outputs": [
    {
     "data": {
      "text/plain": [
       "-inf"
      ]
     },
     "execution_count": 20,
     "metadata": {},
     "output_type": "execute_result"
    }
   ],
   "source": []
  },
  {
   "cell_type": "code",
   "execution_count": 21,
   "metadata": {},
   "outputs": [
    {
     "data": {
      "text/plain": [
       "72"
      ]
     },
     "execution_count": 21,
     "metadata": {},
     "output_type": "execute_result"
    }
   ],
   "source": [
    "max (max_produxt , (nums[n-1]* nums[n-2]* nums[n-3]))"
   ]
  },
  {
   "cell_type": "code",
   "execution_count": 22,
   "metadata": {},
   "outputs": [
    {
     "data": {
      "text/plain": [
       "[-7, -5, 1, 2, 4, 9]"
      ]
     },
     "execution_count": 22,
     "metadata": {},
     "output_type": "execute_result"
    }
   ],
   "source": [
    "nums"
   ]
  },
  {
   "cell_type": "code",
   "execution_count": 36,
   "metadata": {},
   "outputs": [],
   "source": [
    "def sorting(nums):\n",
    "\n",
    "    for i in range(len(nums)):\n",
    "        for j in range(i+1,len(nums)):\n",
    "            if nums[i] > nums[j]:\n",
    "                nums[i], nums[j] = nums[j], nums[i]\n",
    "    return nums"
   ]
  },
  {
   "cell_type": "code",
   "execution_count": 38,
   "metadata": {},
   "outputs": [
    {
     "data": {
      "text/plain": [
       "[-100, -10, -2, 0, 3, 10, 100]"
      ]
     },
     "execution_count": 38,
     "metadata": {},
     "output_type": "execute_result"
    }
   ],
   "source": [
    "sorting([0,10,3,-2,-10,100,-100])"
   ]
  },
  {
   "cell_type": "code",
   "execution_count": null,
   "metadata": {},
   "outputs": [],
   "source": [
    "int maximumProduct(int[] nums) {\n",
    "    n = nums.size\n",
    "    maxProduct = INT_MIN\n",
    "    for(int i = 0 to i < n-2) {\n",
    "        for(int j = i + 1 to j < n-1) {\n",
    "            for(int k = j + 1 to k < n) {\n",
    "                tripletProduct = nums[i] * nums[j] * nums[k]\n",
    "                maxProduct = max(maxProduct, tripletProduct)\n",
    "            }\n",
    "        }\n",
    "    }\n",
    "    return maxProduct\n",
    "}"
   ]
  },
  {
   "cell_type": "code",
   "execution_count": 64,
   "metadata": {},
   "outputs": [
    {
     "name": "stdout",
     "output_type": "stream",
     "text": [
      "-5 -7 4 140\n",
      "-5 -7 2 140\n",
      "-5 -7 1 140\n",
      "-5 -7 9 315\n",
      "-5 -7 5 315\n",
      "-5 -7 -19 315\n",
      "-5 -7 3 315\n",
      "-5 4 2 315\n",
      "-5 4 1 315\n",
      "-5 4 9 315\n",
      "-5 4 5 315\n",
      "-5 4 -19 380\n",
      "-5 4 3 380\n",
      "-5 2 1 380\n",
      "-5 2 9 380\n",
      "-5 2 5 380\n",
      "-5 2 -19 380\n",
      "-5 2 3 380\n",
      "-5 1 9 380\n",
      "-5 1 5 380\n",
      "-5 1 -19 380\n",
      "-5 1 3 380\n",
      "-5 9 5 380\n",
      "-5 9 -19 855\n",
      "-5 9 3 855\n",
      "-5 5 -19 855\n",
      "-5 5 3 855\n",
      "-5 -19 3 855\n",
      "-7 4 2 855\n",
      "-7 4 1 855\n",
      "-7 4 9 855\n",
      "-7 4 5 855\n",
      "-7 4 -19 855\n",
      "-7 4 3 855\n",
      "-7 2 1 855\n",
      "-7 2 9 855\n",
      "-7 2 5 855\n",
      "-7 2 -19 855\n",
      "-7 2 3 855\n",
      "-7 1 9 855\n",
      "-7 1 5 855\n",
      "-7 1 -19 855\n",
      "-7 1 3 855\n",
      "-7 9 5 855\n",
      "-7 9 -19 1197\n",
      "-7 9 3 1197\n",
      "-7 5 -19 1197\n",
      "-7 5 3 1197\n",
      "-7 -19 3 1197\n",
      "4 2 1 1197\n",
      "4 2 9 1197\n",
      "4 2 5 1197\n",
      "4 2 -19 1197\n",
      "4 2 3 1197\n",
      "4 1 9 1197\n",
      "4 1 5 1197\n",
      "4 1 -19 1197\n",
      "4 1 3 1197\n",
      "4 9 5 1197\n",
      "4 9 -19 1197\n",
      "4 9 3 1197\n",
      "4 5 -19 1197\n",
      "4 5 3 1197\n",
      "4 -19 3 1197\n",
      "2 1 9 1197\n",
      "2 1 5 1197\n",
      "2 1 -19 1197\n",
      "2 1 3 1197\n",
      "2 9 5 1197\n",
      "2 9 -19 1197\n",
      "2 9 3 1197\n",
      "2 5 -19 1197\n",
      "2 5 3 1197\n",
      "2 -19 3 1197\n",
      "1 9 5 1197\n",
      "1 9 -19 1197\n",
      "1 9 3 1197\n",
      "1 5 -19 1197\n",
      "1 5 3 1197\n",
      "1 -19 3 1197\n",
      "9 5 -19 1197\n",
      "9 5 3 1197\n",
      "9 -19 3 1197\n",
      "5 -19 3 1197\n"
     ]
    }
   ],
   "source": [
    "nums = [-5, -7, 4, 2, 1, 9, 5, -19, 3]\n",
    "max_product = -math.inf\n",
    "tripletProduct=0\n",
    "for i in range(0,n-2):\n",
    "    for j in range(i+1,n-1):\n",
    "        for k in range(j +1,n):\n",
    "            tripletProduct = nums[i] * nums[j] * nums[k]\n",
    "            print(nums[i],nums[j],nums[k], max(max_product, tripletProduct))\n",
    "            max_product = max(max_product, tripletProduct)\n",
    "            "
   ]
  },
  {
   "cell_type": "code",
   "execution_count": 65,
   "metadata": {},
   "outputs": [
    {
     "data": {
      "text/plain": [
       "[-19, -7, -5, 1, 2, 3, 4, 5, 9]"
      ]
     },
     "execution_count": 65,
     "metadata": {},
     "output_type": "execute_result"
    }
   ],
   "source": [
    "nums = [-5, -7, 4, 2, 1, 9, 5, -19, 3]\n",
    "nums.sort()\n",
    "nums"
   ]
  },
  {
   "cell_type": "code",
   "execution_count": 67,
   "metadata": {},
   "outputs": [
    {
     "data": {
      "text/plain": [
       "1197"
      ]
     },
     "execution_count": 67,
     "metadata": {},
     "output_type": "execute_result"
    }
   ],
   "source": [
    "-19* -7 * 9"
   ]
  },
  {
   "cell_type": "code",
   "execution_count": null,
   "metadata": {},
   "outputs": [],
   "source": []
  }
 ],
 "metadata": {
  "kernelspec": {
   "display_name": "Python 3",
   "language": "python",
   "name": "python3"
  },
  "language_info": {
   "codemirror_mode": {
    "name": "ipython",
    "version": 3
   },
   "file_extension": ".py",
   "mimetype": "text/x-python",
   "name": "python",
   "nbconvert_exporter": "python",
   "pygments_lexer": "ipython3",
   "version": "3.8.3"
  }
 },
 "nbformat": 4,
 "nbformat_minor": 4
}
